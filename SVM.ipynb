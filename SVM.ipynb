{
 "cells": [
  {
   "cell_type": "code",
   "execution_count": 1,
   "metadata": {},
   "outputs": [],
   "source": [
    "import pandas as pd\n",
    "import numpy as np\n",
    "import matplotlib.pyplot as plt\n",
    "from sklearn.metrics import accuracy_score\n",
    "from sklearn.model_selection import cross_val_score, train_test_split\n",
    "import random"
   ]
  },
  {
   "cell_type": "code",
   "execution_count": 2,
   "metadata": {},
   "outputs": [],
   "source": [
    "geyser = pd.read_csv(\"geyser.csv\")\n",
    "chips = pd.read_csv(\"chips.csv\")"
   ]
  },
  {
   "cell_type": "code",
   "execution_count": 3,
   "metadata": {},
   "outputs": [
    {
     "data": {
      "text/html": [
       "<div>\n",
       "<style scoped>\n",
       "    .dataframe tbody tr th:only-of-type {\n",
       "        vertical-align: middle;\n",
       "    }\n",
       "\n",
       "    .dataframe tbody tr th {\n",
       "        vertical-align: top;\n",
       "    }\n",
       "\n",
       "    .dataframe thead th {\n",
       "        text-align: right;\n",
       "    }\n",
       "</style>\n",
       "<table border=\"1\" class=\"dataframe\">\n",
       "  <thead>\n",
       "    <tr style=\"text-align: right;\">\n",
       "      <th></th>\n",
       "      <th>x</th>\n",
       "      <th>y</th>\n",
       "      <th>class</th>\n",
       "    </tr>\n",
       "  </thead>\n",
       "  <tbody>\n",
       "    <tr>\n",
       "      <th>0</th>\n",
       "      <td>1</td>\n",
       "      <td>4.4</td>\n",
       "      <td>N</td>\n",
       "    </tr>\n",
       "    <tr>\n",
       "      <th>1</th>\n",
       "      <td>1</td>\n",
       "      <td>3.9</td>\n",
       "      <td>N</td>\n",
       "    </tr>\n",
       "    <tr>\n",
       "      <th>2</th>\n",
       "      <td>1</td>\n",
       "      <td>4.0</td>\n",
       "      <td>P</td>\n",
       "    </tr>\n",
       "    <tr>\n",
       "      <th>3</th>\n",
       "      <td>1</td>\n",
       "      <td>4.0</td>\n",
       "      <td>N</td>\n",
       "    </tr>\n",
       "    <tr>\n",
       "      <th>4</th>\n",
       "      <td>1</td>\n",
       "      <td>3.5</td>\n",
       "      <td>N</td>\n",
       "    </tr>\n",
       "  </tbody>\n",
       "</table>\n",
       "</div>"
      ],
      "text/plain": [
       "   x    y class\n",
       "0  1  4.4     N\n",
       "1  1  3.9     N\n",
       "2  1  4.0     P\n",
       "3  1  4.0     N\n",
       "4  1  3.5     N"
      ]
     },
     "execution_count": 3,
     "metadata": {},
     "output_type": "execute_result"
    }
   ],
   "source": [
    "geyser.head()"
   ]
  },
  {
   "cell_type": "code",
   "execution_count": 4,
   "metadata": {},
   "outputs": [
    {
     "data": {
      "text/html": [
       "<div>\n",
       "<style scoped>\n",
       "    .dataframe tbody tr th:only-of-type {\n",
       "        vertical-align: middle;\n",
       "    }\n",
       "\n",
       "    .dataframe tbody tr th {\n",
       "        vertical-align: top;\n",
       "    }\n",
       "\n",
       "    .dataframe thead th {\n",
       "        text-align: right;\n",
       "    }\n",
       "</style>\n",
       "<table border=\"1\" class=\"dataframe\">\n",
       "  <thead>\n",
       "    <tr style=\"text-align: right;\">\n",
       "      <th></th>\n",
       "      <th>x</th>\n",
       "      <th>y</th>\n",
       "      <th>class</th>\n",
       "    </tr>\n",
       "  </thead>\n",
       "  <tbody>\n",
       "    <tr>\n",
       "      <th>0</th>\n",
       "      <td>0.051267</td>\n",
       "      <td>0.69956</td>\n",
       "      <td>P</td>\n",
       "    </tr>\n",
       "    <tr>\n",
       "      <th>1</th>\n",
       "      <td>-0.092742</td>\n",
       "      <td>0.68494</td>\n",
       "      <td>P</td>\n",
       "    </tr>\n",
       "    <tr>\n",
       "      <th>2</th>\n",
       "      <td>-0.213710</td>\n",
       "      <td>0.69225</td>\n",
       "      <td>P</td>\n",
       "    </tr>\n",
       "    <tr>\n",
       "      <th>3</th>\n",
       "      <td>-0.375000</td>\n",
       "      <td>0.50219</td>\n",
       "      <td>P</td>\n",
       "    </tr>\n",
       "    <tr>\n",
       "      <th>4</th>\n",
       "      <td>-0.513250</td>\n",
       "      <td>0.46564</td>\n",
       "      <td>P</td>\n",
       "    </tr>\n",
       "  </tbody>\n",
       "</table>\n",
       "</div>"
      ],
      "text/plain": [
       "          x        y class\n",
       "0  0.051267  0.69956     P\n",
       "1 -0.092742  0.68494     P\n",
       "2 -0.213710  0.69225     P\n",
       "3 -0.375000  0.50219     P\n",
       "4 -0.513250  0.46564     P"
      ]
     },
     "execution_count": 4,
     "metadata": {},
     "output_type": "execute_result"
    }
   ],
   "source": [
    "chips.head()"
   ]
  },
  {
   "cell_type": "code",
   "execution_count": 5,
   "metadata": {},
   "outputs": [
    {
     "data": {
      "image/png": "[encoded data removed]",
      "text/plain": [
       "<Figure size 432x288 with 1 Axes>"
      ]
     },
     "metadata": {
      "needs_background": "light"
     },
     "output_type": "display_data"
    }
   ],
   "source": [
    "groups = geyser.groupby('class')\n",
    "\n",
    "fig, ax = plt.subplots()\n",
    "for name, group in groups:\n",
    "    ax.plot(group.x, group.y, marker='o', linestyle='', label=name)\n",
    "ax.legend()\n",
    "\n",
    "plt.show()"
   ]
  },
  {
   "cell_type": "code",
   "execution_count": 6,
   "metadata": {},
   "outputs": [
    {
     "data": {
      "image/png": "[encoded data removed]",
      "text/plain": [
       "<Figure size 432x288 with 1 Axes>"
      ]
     },
     "metadata": {
      "needs_background": "light"
     },
     "output_type": "display_data"
    }
   ],
   "source": [
    "groups = chips.groupby('class')\n",
    "\n",
    "fig, ax = plt.subplots()\n",
    "for name, group in groups:\n",
    "    ax.plot(group.x, group.y, marker='o', linestyle='', label=name)\n",
    "ax.legend()\n",
    "\n",
    "plt.show()"
   ]
  },
  {
   "cell_type": "code",
   "execution_count": 7,
   "metadata": {},
   "outputs": [],
   "source": [
    "geyser.loc[geyser[\"class\"] == \"N\", \"class\"] = -1\n",
    "geyser.loc[geyser[\"class\"] == \"P\", \"class\"] = 1"
   ]
  },
  {
   "cell_type": "code",
   "execution_count": 8,
   "metadata": {},
   "outputs": [],
   "source": [
    "chips.loc[chips[\"class\"] == \"N\", \"class\"] = -1\n",
    "chips.loc[chips[\"class\"] == \"P\", \"class\"] = 1"
   ]
  },
  {
   "cell_type": "code",
   "execution_count": 21,
   "metadata": {},
   "outputs": [],
   "source": [
    "class SMO:\n",
    "    def __init__(self, C=1, toler=0.001, kernel=\"lin\", sigma=0.5, degree=3):\n",
    "        self.C = C\n",
    "        self.tol = toler\n",
    "        self.degree = 1\n",
    "        self.b = 0\n",
    "\n",
    "        if kernel == 'lin':\n",
    "            self.K = self.polynomial_kernel\n",
    "        elif kernel == 'poly':\n",
    "            self.degree = degree\n",
    "            self.K = self.polynomial_kernel\n",
    "        elif kernel == 'rbf':\n",
    "            self.sigma = sigma\n",
    "            self.K = self.gaussian_kernel           \n",
    "        else:\n",
    "            print(\"There is no such kernel\")\n",
    "\n",
    "    def gaussian_kernel(self, x1, x2):\n",
    "        norm = np.linalg.norm(np.subtract(x1, x2)) \n",
    "\n",
    "        return np.exp(-(norm ** 2) / (2 * (self.sigma ** 2)))\n",
    "\n",
    "    def polynomial_kernel(self, x1, x2):\n",
    "        dot_product = np.dot(np.transpose(x1), x2) \n",
    "\n",
    "        return (dot_product + 1) ** self.degree\n",
    "\n",
    "    def E(self, i):\n",
    "        if (self.alphas[i] > 0) and (self.alphas[i] < self.C):\n",
    "            return self.e_cache[i]\n",
    "        \n",
    "        u = 0\n",
    "        for j in range(self.m):\n",
    "            u += self.K(self.X[j], self.X[i]) * self.y[j] * self.alphas[j]\n",
    "        u -= self.b\n",
    "        \n",
    "        return u - self.y[i]\n",
    "\n",
    "    def take_step(self, i1, i2):\n",
    "        if i1 == i2:\n",
    "            return 0\n",
    "        alpha1 = self.alphas[i1]\n",
    "        y1 = self.y[i1]\n",
    "        E1 = self.E(i1)\n",
    "        \n",
    "        alpha2 = self.alphas[i2]\n",
    "        y2 = self.y[i2]\n",
    "        E2 = self.E(i2)\n",
    "        \n",
    "        s = y1 * y2\n",
    "        \n",
    "        if y1 == y2:\n",
    "            L = max(0, alpha1 + alpha2 - self.C)\n",
    "            H = min(self.C, alpha1 + alpha2)\n",
    "        else:\n",
    "            L = max(0, alpha2 - alpha1)\n",
    "            H = min(self.C, self.C + alpha2 - alpha1)\n",
    "        \n",
    "        if L == H:\n",
    "            return 0\n",
    "        \n",
    "        eta = self.K(self.X[i1], self.X[i1]) + self.K(self.X[i2], self.X[i2]) - 2 * self.K(self.X[i1], self.X[i2])\n",
    "        if eta > 0:\n",
    "            a2 = alpha2 + y2 * (E1 - E2) / eta\n",
    "            if a2 < L:\n",
    "                a2 = L\n",
    "            elif a2 > H:\n",
    "                a2 = H\n",
    "        else:\n",
    "            c1 = eta / 2.0\n",
    "            c2 = y2 * (E1 - E2) - eta * alpha2\n",
    "            Lobj = c1 * L * L + c2 * L\n",
    "            Hobj = c1 * H * H + c2 * H\n",
    "            if Lobj < Hobj - self.tol:\n",
    "                a2 = L\n",
    "            elif Lobj > Hobj + self.tol:\n",
    "                a2 = H\n",
    "            else:\n",
    "                a2 = alpha2\n",
    "                \n",
    "        if abs(a2 - alpha2) < self.tol * (a2 + alpha2 + self.tol):\n",
    "            return 0\n",
    "        \n",
    "        a1 = alpha1 + s * (alpha2 - a2)\n",
    "        if a1 > 0 and a1 < self.C:\n",
    "            bnew = self.b + E1 + y1 * (a1 - alpha1) * self.K(self.X[i1], self.X[i1]) + y2 * (a2 - alpha2) * self.K(self.X[i1], self.X[i2])\n",
    "        elif a2 > 0 and a2 < self.C:\n",
    "            bnew = self.b + E2 + y1 * (a1 - alpha1) * self.K(self.X[i1], self.X[i2]) + y2 * (a2 - alpha2) * self.K(self.X[i2], self.X[i2])\n",
    "        else:\n",
    "            b1 = self.b + E1 + y1 * (a1 - alpha1) * self.K(self.X[i1], self.X[i1]) + y2 * (a2 - alpha2) * self.K(self.X[i1], self.X[i2])\n",
    "            b2 = self.b + E2 + y1 * (a1 - alpha1) * self.K(self.X[i1], self.X[i2]) + y2 * (a2 - alpha2) * self.K(self.X[i2], self.X[i2])\n",
    "            bnew = (b1 + b2) / 2.0\n",
    "            \n",
    "        t1 = y1 * (a1 - alpha1)\n",
    "        t2 = y2 * (a2 - alpha2)\n",
    "        dw = bnew - self.b\n",
    "        \n",
    "        for i in range(self.m):\n",
    "            if (self.alphas[i] > 0) and (self.alphas[i] < self.C):\n",
    "                self.e_cache[i] += t1 * self.K(self.X[i1], self.X[i]) + t2 * self.K(self.X[i2], self.X[i]) - dw\n",
    "                \n",
    "        self.e_cache[i1] = 0\n",
    "        self.e_cache[i2] = 0\n",
    "        \n",
    "        self.b = bnew\n",
    "        self.alphas[i1] = a1\n",
    "        self.alphas[i2] = a2\n",
    "        return 1\n",
    "        \n",
    "    def examine_example(self, i2):\n",
    "        y2 = self.y[i2]\n",
    "        alpha2 = self.alphas[i2]\n",
    "        E2 = self.E(i2)\n",
    "        r2 = E2 * y2\n",
    "        \n",
    "        if ((r2 < -self.tol) and (alpha2 < self.C)) or ((r2 > self.tol) and (alpha2 > 0)):\n",
    "            max_delta_E = 0\n",
    "            i1 = -1\n",
    "            for i in range(self.m):\n",
    "                if self.alphas[i] > 0 and self.alphas[i] < self.C:\n",
    "                    E1 = self.e_cache[i]\n",
    "                    delta_E = abs(E1 - E2)\n",
    "                    if delta_E > max_delta_E:\n",
    "                        max_delta_E = delta_E\n",
    "                        i1 = i\n",
    "            if i1 >= 0:\n",
    "                if self.take_step(i1, i2):\n",
    "                    return 1\n",
    "            \n",
    "            random_index = np.random.permutation(self.m)\n",
    "            for i1 in random_index:\n",
    "                if self.alphas[i1] > 0 and self.alphas[i1] < self.C:\n",
    "                    if self.take_step(i1, i2):\n",
    "                        return 1\n",
    "            \n",
    "            random_index = np.random.permutation(self.m)\n",
    "            for i1 in random_index:\n",
    "                if self.take_step(i1, i2):\n",
    "                    return 1\n",
    "        return 0\n",
    "\n",
    "    def main_routine(self):\n",
    "        num_changed = 0\n",
    "        examine_all = 1\n",
    "        while (num_changed > 0 or examine_all):\n",
    "            num_changed = 0\n",
    "            if (examine_all == 1):\n",
    "                for i2 in range(self.m):\n",
    "                    num_changed += self.examine_example(i2)\n",
    "            else:\n",
    "                for i2 in range(self.m):\n",
    "                    if (self.alphas[i2] > 0) and (self.alphas[i2] < self.C):\n",
    "                        num_changed += self.examine_example(i2)\n",
    "            if (examine_all == 1):\n",
    "                examine_all = 0\n",
    "            elif (num_changed == 0):\n",
    "                examine_all = 1\n",
    "                \n",
    "    def fit(self, X, y):\n",
    "        self.X = X\n",
    "        self.y = y\n",
    "        self.m = np.shape(X)[0]\n",
    "        self.n = np.shape(X)[1]\n",
    "        self.alphas = np.zeros(self.m)\n",
    "        self.e_cache = np.zeros(self.m)\n",
    "        self.main_routine()\n",
    "            \n",
    "    def predict(self, X):\n",
    "        result = []\n",
    "        \n",
    "        for i in range(X.shape[0]):\n",
    "            u = 0\n",
    "            for j in range(self.m):\n",
    "                u += self.K(self.X[j], X[i]) * self.y[j] * self.alphas[j]\n",
    "            u -= self.b\n",
    "        \n",
    "            result.append(u)\n",
    "            \n",
    "        return np.array(result)"
   ]
  },
  {
   "cell_type": "markdown",
   "metadata": {},
   "source": [
    "# 1) geyser"
   ]
  },
  {
   "cell_type": "code",
   "execution_count": 11,
   "metadata": {},
   "outputs": [],
   "source": [
    "X = geyser.drop(\"class\", axis=1)\n",
    "y = geyser[\"class\"]"
   ]
  },
  {
   "cell_type": "code",
   "execution_count": 12,
   "metadata": {},
   "outputs": [],
   "source": [
    "X = X.values\n",
    "y = y.values"
   ]
  },
  {
   "cell_type": "code",
   "execution_count": 13,
   "metadata": {},
   "outputs": [],
   "source": [
    "X_train, X_test, y_train, y_test = train_test_split(X, y, test_size=0.33, random_state=42)"
   ]
  },
  {
   "cell_type": "code",
   "execution_count": 14,
   "metadata": {},
   "outputs": [],
   "source": [
    "best_score = 0\n",
    "best_kernel = ''\n",
    "best_C = 0\n",
    "for C in [0.01, 0.5, 1, 2, 5, 10, 50, 100, 200, 500, 1000, 2000, 5000]:\n",
    "    for kernel in ['rbf', 'lin', 'poly']:   \n",
    "        smo = SMO(C=C, kernel=kernel)\n",
    "        smo.fit(X_train, y_train)\n",
    "        a = smo.predict(X_test)\n",
    "\n",
    "        y_pred = np.sign(a)  \n",
    "        if accuracy_score(y_pred, y_test) > best_score:\n",
    "            best_score = accuracy_score(y_pred, y_test)\n",
    "            best_kernel = kernel\n",
    "            best_C = C"
   ]
  },
  {
   "cell_type": "code",
   "execution_count": 15,
   "metadata": {},
   "outputs": [
    {
     "data": {
      "text/plain": [
       "0.9594594594594594"
      ]
     },
     "execution_count": 15,
     "metadata": {},
     "output_type": "execute_result"
    }
   ],
   "source": [
    "best_score"
   ]
  },
  {
   "cell_type": "code",
   "execution_count": 16,
   "metadata": {},
   "outputs": [
    {
     "data": {
      "text/plain": [
       "0.01"
      ]
     },
     "execution_count": 16,
     "metadata": {},
     "output_type": "execute_result"
    }
   ],
   "source": [
    "best_C"
   ]
  },
  {
   "cell_type": "code",
   "execution_count": 17,
   "metadata": {},
   "outputs": [
    {
     "data": {
      "text/plain": [
       "'lin'"
      ]
     },
     "execution_count": 17,
     "metadata": {},
     "output_type": "execute_result"
    }
   ],
   "source": [
    "best_kernel"
   ]
  },
  {
   "cell_type": "code",
   "execution_count": 86,
   "metadata": {},
   "outputs": [
    {
     "data": {
      "image/png": "[encoded data removed]",
      "text/plain": [
       "<Figure size 432x288 with 1 Axes>"
      ]
     },
     "metadata": {},
     "output_type": "display_data"
    }
   ],
   "source": [
    "xx, yy = np.meshgrid(np.linspace(-5, 30, 500),\n",
    "                     np.linspace(-15, 20, 500))\n",
    "np.random.seed(0)\n",
    "\n",
    "clf = SMO(C=best_C, kernel=best_kernel)\n",
    "clf.fit(X, y)\n",
    "\n",
    "Z = clf.predict(np.c_[xx.ravel(), yy.ravel()])\n",
    "Z = Z.reshape(xx.shape)\n",
    "\n",
    "plt.imshow(Z, interpolation='nearest',\n",
    "           extent=(xx.min(), xx.max(), yy.min(), yy.max()), aspect='auto',\n",
    "           origin='lower', cmap=plt.cm.PuOr_r)\n",
    "\n",
    "contours = plt.contour(xx, yy, Z, levels=[0], linewidths=2,\n",
    "                       linestyles='dashed')\n",
    "\n",
    "plt.scatter(X[:, 0], X[:, 1], c=y, cmap=plt.cm.Paired,\n",
    "            edgecolors='k')\n",
    "plt.xticks(())\n",
    "plt.yticks(())\n",
    "plt.axis([-1, 25, -1, 7])\n",
    "plt.show()"
   ]
  },
  {
   "cell_type": "markdown",
   "metadata": {},
   "source": [
    "# 2) chips"
   ]
  },
  {
   "cell_type": "code",
   "execution_count": 87,
   "metadata": {},
   "outputs": [],
   "source": [
    "X = chips.drop(\"class\", axis=1)\n",
    "y = chips[\"class\"]"
   ]
  },
  {
   "cell_type": "code",
   "execution_count": 88,
   "metadata": {},
   "outputs": [],
   "source": [
    "X = X.values\n",
    "y = y.values"
   ]
  },
  {
   "cell_type": "code",
   "execution_count": 89,
   "metadata": {},
   "outputs": [],
   "source": [
    "X_train, X_test, y_train, y_test = train_test_split(X, y, test_size=0.33, random_state=42)"
   ]
  },
  {
   "cell_type": "code",
   "execution_count": 90,
   "metadata": {},
   "outputs": [],
   "source": [
    "best_score = 0\n",
    "best_kernel = ''\n",
    "best_C = 0\n",
    "for C in [0.01, 0.5, 1, 2, 5, 10, 50, 100, 200, 500, 1000, 2000, 5000]:\n",
    "    for kernel in ['rbf', 'lin', 'poly']:\n",
    "        smo = SMO(C=C, kernel=kernel)\n",
    "        smo.fit(X_train, y_train)\n",
    "        a = smo.predict(X_test)\n",
    "\n",
    "        y_pred = np.sign(a)  \n",
    "        if accuracy_score(y_pred, y_test) > best_score:\n",
    "            best_score = accuracy_score(y_pred, y_test)\n",
    "            best_kernel = kernel\n",
    "            best_C = C"
   ]
  },
  {
   "cell_type": "code",
   "execution_count": 91,
   "metadata": {},
   "outputs": [
    {
     "data": {
      "text/plain": [
       "0.8205128205128205"
      ]
     },
     "execution_count": 91,
     "metadata": {},
     "output_type": "execute_result"
    }
   ],
   "source": [
    "best_score"
   ]
  },
  {
   "cell_type": "code",
   "execution_count": 92,
   "metadata": {},
   "outputs": [
    {
     "data": {
      "text/plain": [
       "100"
      ]
     },
     "execution_count": 92,
     "metadata": {},
     "output_type": "execute_result"
    }
   ],
   "source": [
    "best_C"
   ]
  },
  {
   "cell_type": "code",
   "execution_count": 93,
   "metadata": {},
   "outputs": [
    {
     "data": {
      "text/plain": [
       "'poly'"
      ]
     },
     "execution_count": 93,
     "metadata": {},
     "output_type": "execute_result"
    }
   ],
   "source": [
    "best_kernel"
   ]
  },
  {
   "cell_type": "code",
   "execution_count": 105,
   "metadata": {},
   "outputs": [
    {
     "data": {
      "image/png": "[encoded data removed]",
      "text/plain": [
       "<Figure size 432x288 with 1 Axes>"
      ]
     },
     "metadata": {},
     "output_type": "display_data"
    }
   ],
   "source": [
    "xx, yy = np.meshgrid(np.linspace(-3, 3, 500),\n",
    "                     np.linspace(-3, 3, 500))\n",
    "np.random.seed(0)\n",
    "\n",
    "clf = SMO(C=best_C, kernel=best_kernel)\n",
    "clf.fit(X, y)\n",
    "\n",
    "Z = clf.predict(np.c_[xx.ravel(), yy.ravel()])\n",
    "Z = Z.reshape(xx.shape)\n",
    "\n",
    "contours = plt.contour(xx, yy, Z, levels=[0], linewidths=2,\n",
    "                       linestyles='dashed')\n",
    "\n",
    "plt.scatter(X[:, 0], X[:, 1], c=y, cmap=plt.cm.Paired,\n",
    "            edgecolors='k')\n",
    "plt.xticks(())\n",
    "plt.yticks(())\n",
    "plt.axis([-1.5, 1.5, -1.5, 1.5])\n",
    "plt.show()"
   ]
  }
 ],
 "metadata": {
  "kernelspec": {
   "display_name": "Python 3",
   "language": "python",
   "name": "python3"
  },
  "language_info": {
   "codemirror_mode": {
    "name": "ipython",
    "version": 3
   },
   "file_extension": ".py",
   "mimetype": "text/x-python",
   "name": "python",
   "nbconvert_exporter": "python",
   "pygments_lexer": "ipython3",
   "version": "3.7.3"
  }
 },
 "nbformat": 4,
 "nbformat_minor": 2
}
